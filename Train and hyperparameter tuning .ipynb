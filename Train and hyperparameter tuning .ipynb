{
 "cells": [
  {
   "cell_type": "markdown",
   "id": "b87fe3bc",
   "metadata": {
    "heading_collapsed": true
   },
   "source": [
    "# Imports"
   ]
  },
  {
   "cell_type": "code",
   "execution_count": 5,
   "id": "405df735",
   "metadata": {
    "ExecuteTime": {
     "end_time": "2022-03-21T19:30:34.426705Z",
     "start_time": "2022-03-21T19:30:34.419675Z"
    },
    "hidden": true
   },
   "outputs": [],
   "source": [
    "import joblib\n",
    "import pandas as pd\n",
    "import seaborn as sns\n",
    "from matplotlib import pyplot as plt\n",
    "from sklearn.datasets import make_classification\n",
    "from sklearn.ensemble import RandomForestClassifier\n",
    "from sklearn.neural_network import MLPClassifier\n",
    "from sklearn.metrics import (balanced_accuracy_score, classification_report,\n",
    "                             confusion_matrix, roc_auc_score)\n",
    "from sklearn.model_selection import GridSearchCV, train_test_split\n",
    "from sklearn.pipeline import Pipeline\n",
    "from sklearn.preprocessing import StandardScaler\n",
    "\n",
    "plt.style.use('ggplot')"
   ]
  },
  {
   "cell_type": "markdown",
   "id": "1bfc27f2",
   "metadata": {
    "heading_collapsed": true
   },
   "source": [
    "# Load data"
   ]
  },
  {
   "cell_type": "code",
   "execution_count": 2,
   "id": "e88c449f",
   "metadata": {
    "ExecuteTime": {
     "end_time": "2022-03-21T19:28:36.412256Z",
     "start_time": "2022-03-21T19:28:34.846158Z"
    },
    "hidden": true
   },
   "outputs": [
    {
     "data": {
      "text/plain": [
       "(284807, 31)"
      ]
     },
     "execution_count": 2,
     "metadata": {},
     "output_type": "execute_result"
    }
   ],
   "source": [
    "\n",
    "df = pd.read_csv(\"data/creditcard.csv\")\n",
    "df.shape"
   ]
  },
  {
   "cell_type": "markdown",
   "id": "e670180b",
   "metadata": {
    "heading_collapsed": true
   },
   "source": [
    "# Split data"
   ]
  },
  {
   "cell_type": "code",
   "execution_count": 3,
   "id": "d993236c",
   "metadata": {
    "ExecuteTime": {
     "end_time": "2022-03-21T19:28:37.986390Z",
     "start_time": "2022-03-21T19:28:37.729104Z"
    },
    "hidden": true
   },
   "outputs": [
    {
     "name": "stdout",
     "output_type": "stream",
     "text": [
      "Training set (199364, 30)\n",
      "Testing set (85443, 30)\n"
     ]
    }
   ],
   "source": [
    "data = df.iloc[:,:-1]\n",
    "target = df[\"Class\"]\n",
    "\n",
    "#split data into train and test\n",
    "X_train,X_test,y_train,y_test=train_test_split(data,target,test_size=0.3,stratify=target)\n",
    "\n",
    "#to avoid warning\n",
    "X_train = X_train.copy()\n",
    "X_test = X_test.copy()\n",
    "\n",
    "print(\"Training set \"+ str(X_train.shape))\n",
    "print(\"Testing set \"+str(X_test.shape))"
   ]
  },
  {
   "cell_type": "markdown",
   "id": "0baeb974",
   "metadata": {
    "heading_collapsed": true,
    "hidden": true
   },
   "source": [
    "## balance?"
   ]
  },
  {
   "cell_type": "code",
   "execution_count": 74,
   "id": "07dad3b2",
   "metadata": {
    "ExecuteTime": {
     "end_time": "2022-03-22T01:12:52.616237Z",
     "start_time": "2022-03-22T01:12:52.565020Z"
    },
    "hidden": true
   },
   "outputs": [],
   "source": [
    "len_fraud=len(X_train[y_train==1])\n",
    "a=X_train[y_train==1]\n",
    "b=X_train[y_train==0].sample(n = len_fraud)\n",
    "y=[1]*344+[0]*344\n",
    "X=pd.concat([a,b])"
   ]
  },
  {
   "cell_type": "markdown",
   "id": "c40d6c7b",
   "metadata": {},
   "source": [
    "# Train"
   ]
  },
  {
   "cell_type": "code",
   "execution_count": 88,
   "id": "3eb5d4a8",
   "metadata": {
    "ExecuteTime": {
     "end_time": "2022-03-22T01:20:01.641989Z",
     "start_time": "2022-03-22T01:18:30.112686Z"
    }
   },
   "outputs": [
    {
     "data": {
      "text/plain": [
       "Pipeline(steps=[('scaler', StandardScaler()),\n",
       "                ('rf', RandomForestClassifier(max_depth=10, n_estimators=101))])"
      ]
     },
     "execution_count": 88,
     "metadata": {},
     "output_type": "execute_result"
    }
   ],
   "source": [
    "# train a single model\n",
    "pipeRF = Pipeline([('scaler', StandardScaler()), ('rf', RandomForestClassifier(max_depth=10,n_estimators = 101))])\n",
    "pipeRF.fit(X_train, y_train)\n",
    "# pipeRF.fit(X, y)\n",
    "\n"
   ]
  },
  {
   "cell_type": "markdown",
   "id": "fe5075c4",
   "metadata": {},
   "source": [
    "## hyperparameter tuning and train "
   ]
  },
  {
   "cell_type": "code",
   "execution_count": 102,
   "id": "e077227a",
   "metadata": {
    "ExecuteTime": {
     "end_time": "2022-03-22T02:32:55.035090Z",
     "start_time": "2022-03-22T02:21:13.454566Z"
    }
   },
   "outputs": [
    {
     "name": "stdout",
     "output_type": "stream",
     "text": [
      "Performing model optimizations...\n",
      "\n",
      "Estimator: RandomForest_std\n",
      "Fitting 10 folds for each of 2 candidates, totalling 20 fits\n",
      "Best params: {'rf__max_depth': 15, 'rf__n_estimators': 101}\n",
      "Test set f1 score for best params: 0.856 \n",
      "\n",
      "Classifier with best test set f1: RandomForest_std\n",
      "\n",
      "Saved RandomForest_std grid search pipeline to file: best_gs_pipeline.pkl\n"
     ]
    }
   ],
   "source": [
    "from sklearn.metrics import roc_auc_score,balanced_accuracy_score,classification_report,confusion_matrix,f1_score\n",
    "\n",
    "# Fit the grid search objects\n",
    "pipeRF1 = Pipeline([('rf', RandomForestClassifier())])\n",
    "pipeRF2 = Pipeline([('scaler', StandardScaler()), ('rf', RandomForestClassifier())])\n",
    "pipeMLP = Pipeline([('scaler', StandardScaler()), ('mlp', MLPClassifier())])\n",
    "\n",
    "#create grid\n",
    "grid_params_rf = {\n",
    "    'rf__max_depth': [5,10,15],\n",
    "    'rf__n_estimators': [51,101],\n",
    "}\n",
    "\n",
    "#create grid\n",
    "grid_params_mlp = {\n",
    "    'mlp__hidden_layer_sizes': [10,100,200],\n",
    "}\n",
    "\n",
    "\n",
    "# Construct grid searches\n",
    "gs_rf1 = GridSearchCV(estimator=pipeRF1,\n",
    "                    param_grid=grid_params_rf,\n",
    "                    scoring='f1_micro',\n",
    "                    return_train_score=True,\n",
    "                    verbose=10,\n",
    "                    cv=10, \n",
    "                    n_jobs=4)\n",
    "\n",
    "gs_rf2 = GridSearchCV(estimator=pipeRF2,\n",
    "                    param_grid=grid_params_rf,\n",
    "                    scoring='f1_micro',\n",
    "                    return_train_score=True,\n",
    "                    verbose=10,\n",
    "                    cv=10, \n",
    "                    n_jobs=4)\n",
    "\n",
    "\n",
    "gs_mlp = GridSearchCV(estimator=pipeMLP,\n",
    "                    param_grid=grid_params_mlp,\n",
    "                    scoring='f1_micro',\n",
    "                    return_train_score=True,\n",
    "                    verbose=10,\n",
    "                    cv=10, \n",
    "                    n_jobs=4)\n",
    "\n",
    "print('Performing model optimizations...')\n",
    "best_f1 = 0.0\n",
    "best_clf = 0\n",
    "best_gs = ''\n",
    "grid_dict = {\n",
    "    0: 'RandomForest_alone'\n",
    "    1: 'RandomForest'\n",
    "    2: 'MLPClassifier'\n",
    "}\n",
    "\n",
    "grids=[gs_rf1,gs_rf2,gs_mlp]\n",
    "cv_results_pipelines = []\n",
    "grid_set=[]\n",
    "for idx, gs in enumerate(grids):\n",
    "    print('\\nEstimator: %s' % grid_dict[idx])\t\n",
    "    # Fit grid search\t\n",
    "    gs.fit(X_train, y_train)\n",
    "    # Best params\n",
    "    print('Best params: %s' % gs.best_params_)\n",
    "    # Predict on test data with best params\n",
    "    y_pred = gs.predict(X_test)\n",
    "    # Test data accuracy of model with best params\n",
    "    grid_set.append(gs)\n",
    "    cv_results_pipelines.append(gs.cv_results_)\n",
    "    print('Test set f1 score for best params: %.3f ' % f1_score(y_test, y_pred))\n",
    "    # Track best (highest test accuracy) model\n",
    "    if f1_score(y_test, y_pred) > best_f1:\n",
    "        best_f1 = f1_score(y_test, y_pred)\n",
    "        best_gs = gs\n",
    "        best_clf = idx\n",
    "    \n",
    "print('\\nClassifier with best test set f1: %s' % grid_dict[best_clf])\n",
    "\n",
    "# Save best grid search pipeline to file\n",
    "dump_file = 'best_gs_pipeline.pkl'\n",
    "joblib.dump(best_gs, dump_file, compress=1)\n",
    "print('\\nSaved %s grid search pipeline to file: %s' % (grid_dict[best_clf], dump_file))"
   ]
  },
  {
   "cell_type": "code",
   "execution_count": 44,
   "id": "b4c4406a",
   "metadata": {
    "ExecuteTime": {
     "end_time": "2022-03-21T23:14:46.284185Z",
     "start_time": "2022-03-21T23:14:43.375920Z"
    }
   },
   "outputs": [],
   "source": [
    "# # to save the test dataset\n",
    "# test_data = X_test\n",
    "# test_data['target']=y_test\n",
    "# test_data.to_csv(\"test.csv\",index=False)"
   ]
  }
 ],
 "metadata": {
  "kernelspec": {
   "display_name": "Python 3 (ipykernel)",
   "language": "python",
   "name": "python3"
  },
  "language_info": {
   "codemirror_mode": {
    "name": "ipython",
    "version": 3
   },
   "file_extension": ".py",
   "mimetype": "text/x-python",
   "name": "python",
   "nbconvert_exporter": "python",
   "pygments_lexer": "ipython3",
   "version": "3.8.11"
  },
  "toc": {
   "base_numbering": 1,
   "nav_menu": {},
   "number_sections": true,
   "sideBar": true,
   "skip_h1_title": false,
   "title_cell": "Table of Contents",
   "title_sidebar": "Contents",
   "toc_cell": false,
   "toc_position": {},
   "toc_section_display": true,
   "toc_window_display": false
  },
  "varInspector": {
   "cols": {
    "lenName": 16,
    "lenType": 16,
    "lenVar": 40
   },
   "kernels_config": {
    "python": {
     "delete_cmd_postfix": "",
     "delete_cmd_prefix": "del ",
     "library": "var_list.py",
     "varRefreshCmd": "print(var_dic_list())"
    },
    "r": {
     "delete_cmd_postfix": ") ",
     "delete_cmd_prefix": "rm(",
     "library": "var_list.r",
     "varRefreshCmd": "cat(var_dic_list()) "
    }
   },
   "types_to_exclude": [
    "module",
    "function",
    "builtin_function_or_method",
    "instance",
    "_Feature"
   ],
   "window_display": false
  }
 },
 "nbformat": 4,
 "nbformat_minor": 5
}
