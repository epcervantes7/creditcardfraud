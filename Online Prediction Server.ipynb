{
 "cells": [
  {
   "cell_type": "code",
   "execution_count": 5,
   "id": "3c42b173",
   "metadata": {
    "ExecuteTime": {
     "end_time": "2022-03-21T22:58:38.088061Z",
     "start_time": "2022-03-21T22:58:23.781869Z"
    }
   },
   "outputs": [
    {
     "name": "stdout",
     "output_type": "stream",
     "text": [
      " * Serving Flask app \"__main__\" (lazy loading)\n",
      " * Environment: production\n",
      "\u001b[31m   WARNING: This is a development server. Do not use it in a production deployment.\u001b[0m\n",
      "\u001b[2m   Use a production WSGI server instead.\u001b[0m\n",
      " * Debug mode: off\n"
     ]
    },
    {
     "name": "stderr",
     "output_type": "stream",
     "text": [
      " * Running on http://127.0.0.1:1080/ (Press CTRL+C to quit)\n",
      "127.0.0.1 - - [21/Mar/2022 19:58:29] \"POST /predict HTTP/1.1\" 200 -\n"
     ]
    }
   ],
   "source": [
    "# app.py\n",
    "from flask import Flask\n",
    "from flask_restful import Api, Resource, reqparse\n",
    "import joblib\n",
    "import numpy as np\n",
    "import pandas as pd\n",
    "\n",
    "APP = Flask(__name__)\n",
    "API = Api(APP)\n",
    "\n",
    "MODEL = joblib.load('best_gs_pipeline.pkl')\n",
    "\n",
    "class Predict(Resource):\n",
    "\n",
    "    @staticmethod\n",
    "    def post():\n",
    "        parser = reqparse.RequestParser()\n",
    "        parser.add_argument('Time')  \n",
    "        parser.add_argument('V1')\n",
    "        parser.add_argument('V2')  \n",
    "        parser.add_argument('V3')  \n",
    "        parser.add_argument('V4')  \n",
    "        parser.add_argument('V5')  \n",
    "        parser.add_argument('V6')  \n",
    "        parser.add_argument('V7')  \n",
    "        parser.add_argument('V8')  \n",
    "        parser.add_argument('V9')  \n",
    "        parser.add_argument('V10')\n",
    "        parser.add_argument('V11') \n",
    "        parser.add_argument('V12') \n",
    "        parser.add_argument('V13') \n",
    "        parser.add_argument('V14') \n",
    "        parser.add_argument('V15') \n",
    "        parser.add_argument('V16') \n",
    "        parser.add_argument('V17') \n",
    "        parser.add_argument('V18') \n",
    "        parser.add_argument('V19') \n",
    "        parser.add_argument('V20') \n",
    "        parser.add_argument('V21') \n",
    "        parser.add_argument('V22') \n",
    "        parser.add_argument('V23') \n",
    "        parser.add_argument('V24') \n",
    "        parser.add_argument('V25') \n",
    "        parser.add_argument('V26') \n",
    "        parser.add_argument('V27') \n",
    "        parser.add_argument('V28') \n",
    "        parser.add_argument('Amount')\n",
    "\n",
    "        args = parser.parse_args()  # creates dict\n",
    "\n",
    "        X_new = np.fromiter(args.values(), dtype=float)  \n",
    "        # convert input to dataframe\n",
    "        data = pd.DataFrame([X_new],columns=['Time', 'V1', 'V2', 'V3', 'V4', 'V5', 'V6', 'V7', 'V8', 'V9', 'V10',\n",
    "       'V11', 'V12', 'V13', 'V14', 'V15', 'V16', 'V17', 'V18', 'V19', 'V20',\n",
    "       'V21', 'V22', 'V23', 'V24', 'V25', 'V26', 'V27', 'V28', 'Amount'])\n",
    "        out = {'Prediction': str(MODEL.predict(data))}\n",
    "        return out, 200\n",
    "\n",
    "\n",
    "API.add_resource(Predict, '/predict')\n",
    "\n",
    "if __name__ == '__main__':\n",
    "    APP.run(debug=False, port='1080')"
   ]
  },
  {
   "cell_type": "code",
   "execution_count": null,
   "id": "f6695615",
   "metadata": {},
   "outputs": [],
   "source": []
  }
 ],
 "metadata": {
  "kernelspec": {
   "display_name": "Python 3 (ipykernel)",
   "language": "python",
   "name": "python3"
  },
  "language_info": {
   "codemirror_mode": {
    "name": "ipython",
    "version": 3
   },
   "file_extension": ".py",
   "mimetype": "text/x-python",
   "name": "python",
   "nbconvert_exporter": "python",
   "pygments_lexer": "ipython3",
   "version": "3.8.11"
  },
  "toc": {
   "base_numbering": 1,
   "nav_menu": {},
   "number_sections": true,
   "sideBar": true,
   "skip_h1_title": false,
   "title_cell": "Table of Contents",
   "title_sidebar": "Contents",
   "toc_cell": false,
   "toc_position": {},
   "toc_section_display": true,
   "toc_window_display": false
  },
  "varInspector": {
   "cols": {
    "lenName": 16,
    "lenType": 16,
    "lenVar": 40
   },
   "kernels_config": {
    "python": {
     "delete_cmd_postfix": "",
     "delete_cmd_prefix": "del ",
     "library": "var_list.py",
     "varRefreshCmd": "print(var_dic_list())"
    },
    "r": {
     "delete_cmd_postfix": ") ",
     "delete_cmd_prefix": "rm(",
     "library": "var_list.r",
     "varRefreshCmd": "cat(var_dic_list()) "
    }
   },
   "types_to_exclude": [
    "module",
    "function",
    "builtin_function_or_method",
    "instance",
    "_Feature"
   ],
   "window_display": false
  }
 },
 "nbformat": 4,
 "nbformat_minor": 5
}
