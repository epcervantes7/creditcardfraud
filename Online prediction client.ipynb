{
 "cells": [
  {
   "cell_type": "code",
   "execution_count": 31,
   "id": "24af2adb",
   "metadata": {
    "ExecuteTime": {
     "end_time": "2022-03-21T22:58:29.685017Z",
     "start_time": "2022-03-21T22:58:29.628783Z"
    }
   },
   "outputs": [
    {
     "data": {
      "text/plain": [
       "{'Prediction': '[0]'}"
      ]
     },
     "execution_count": 31,
     "metadata": {},
     "output_type": "execute_result"
    }
   ],
   "source": [
    "import requests\n",
    "\n",
    "url = 'http://127.0.0.1:1080/predict'  # localhost and the defined port + endpoint\n",
    "body = {\n",
    "    \"Time\":146755,\n",
    "    \"V1\": 2.261753,\n",
    "    \"V2\":-1.214649,\n",
    "    \"V3\":-2.076095,\n",
    "    \"V4\":-1.618987,\n",
    "    \"V5\":-0.472624,\n",
    "    \"V6\":-1.107674,\n",
    "    \"V7\":-0.236442,\n",
    "    \"V8\":-0.469976,\n",
    "    \"V9\":-2.099197,\n",
    "    \"V10\": 1.812430,\n",
    "    \"V11\": 0.463090,\n",
    "    \"V12\":-0.102735,\n",
    "    \"V13\": 0.512837,\n",
    "    \"V14\": 0.171452,\n",
    "    \"V15\":-1.482585,\n",
    "    \"V16\":-1.021269,\n",
    "    \"V17\": 0.424007,\n",
    "    \"V18\": 0.100685,\n",
    "    \"V19\": 0.447176,\n",
    "    \"V20\":-0.339035,\n",
    "    \"V21\": 0.018350,\n",
    "    \"V22\": 0.502444,\n",
    "    \"V23\":-0.102284,\n",
    "    \"V24\":-0.293746,\n",
    "    \"V25\": 0.392746,\n",
    "    \"V26\": 0.105108,\n",
    "    \"V27\":-0.056527,\n",
    "    \"V28\":-0.081723,\n",
    "    \"Amount\":60\n",
    "}\n",
    "response = requests.post(url, data=body)\n",
    "response.json()"
   ]
  },
  {
   "cell_type": "code",
   "execution_count": null,
   "id": "8d19d058",
   "metadata": {},
   "outputs": [],
   "source": []
  }
 ],
 "metadata": {
  "kernelspec": {
   "display_name": "Python 3 (ipykernel)",
   "language": "python",
   "name": "python3"
  },
  "language_info": {
   "codemirror_mode": {
    "name": "ipython",
    "version": 3
   },
   "file_extension": ".py",
   "mimetype": "text/x-python",
   "name": "python",
   "nbconvert_exporter": "python",
   "pygments_lexer": "ipython3",
   "version": "3.8.11"
  },
  "toc": {
   "base_numbering": 1,
   "nav_menu": {},
   "number_sections": true,
   "sideBar": true,
   "skip_h1_title": false,
   "title_cell": "Table of Contents",
   "title_sidebar": "Contents",
   "toc_cell": false,
   "toc_position": {},
   "toc_section_display": true,
   "toc_window_display": false
  },
  "varInspector": {
   "cols": {
    "lenName": 16,
    "lenType": 16,
    "lenVar": 40
   },
   "kernels_config": {
    "python": {
     "delete_cmd_postfix": "",
     "delete_cmd_prefix": "del ",
     "library": "var_list.py",
     "varRefreshCmd": "print(var_dic_list())"
    },
    "r": {
     "delete_cmd_postfix": ") ",
     "delete_cmd_prefix": "rm(",
     "library": "var_list.r",
     "varRefreshCmd": "cat(var_dic_list()) "
    }
   },
   "types_to_exclude": [
    "module",
    "function",
    "builtin_function_or_method",
    "instance",
    "_Feature"
   ],
   "window_display": false
  }
 },
 "nbformat": 4,
 "nbformat_minor": 5
}
